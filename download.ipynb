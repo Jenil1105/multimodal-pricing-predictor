{
 "cells": [
  {
   "cell_type": "code",
   "execution_count": 4,
   "id": "6ad29023",
   "metadata": {},
   "outputs": [
    {
     "name": "stderr",
     "output_type": "stream",
     "text": [
      "Downloading: 100%|██████████| 75000/75000 [06:50<00:00, 182.68it/s] "
     ]
    },
    {
     "name": "stdout",
     "output_type": "stream",
     "text": [
      "✅ Downloaded: 74999 images\n",
      "⚠️ Failed: 1 images\n",
      "💾 Failed links saved to failed_links.txt\n"
     ]
    },
    {
     "name": "stderr",
     "output_type": "stream",
     "text": [
      "\n"
     ]
    }
   ],
   "source": [
    "import os\n",
    "import pandas as pd\n",
    "import asyncio\n",
    "import aiohttp\n",
    "import aiofiles\n",
    "from tqdm.asyncio import tqdm_asyncio\n",
    "\n",
    "# ======= CONFIG =======\n",
    "csv_path = r\"D:\\Amazon ML\\student_resource\\dataset\\test.csv\"\n",
    "save_dir = r\"D:\\Amazon ML\\student_resource\\dataset\\images\\test\"\n",
    "max_concurrent = 25        # safe for most networks\n",
    "max_retries = 3           # retry failed downloads\n",
    "timeout_sec = 150           # increase if needed\n",
    "\n",
    "# ======= SETUP =======\n",
    "os.makedirs(save_dir, exist_ok=True)\n",
    "df = pd.read_csv(csv_path)\n",
    "if 'sample_id' not in df.columns or 'image_link' not in df.columns:\n",
    "    raise ValueError(\"CSV must contain 'sample_id' and 'image_link' columns\")\n",
    "\n",
    "urls = df['image_link'].tolist()\n",
    "ids = df['sample_id'].astype(str).tolist()\n",
    "\n",
    "# ======= DOWNLOAD FUNCTION =======\n",
    "async def download_image(session, sample_id, url):\n",
    "    ext = os.path.splitext(url)[1].split('?')[0]\n",
    "    if ext.lower() not in ['.jpg', '.jpeg', '.png', '.webp']:\n",
    "        ext = '.jpg'\n",
    "    img_path = os.path.join(save_dir, f\"{sample_id}{ext}\")\n",
    "\n",
    "    # Skip existing file\n",
    "    if os.path.exists(img_path):\n",
    "        return None\n",
    "\n",
    "    for attempt in range(max_retries):\n",
    "        try:\n",
    "            async with session.get(url) as resp:\n",
    "                if resp.status == 200:\n",
    "                    content = await resp.read()\n",
    "                    async with aiofiles.open(img_path, 'wb') as f:\n",
    "                        await f.write(content)\n",
    "                    return None\n",
    "                else:\n",
    "                    await asyncio.sleep(1)  # small delay before retry\n",
    "        except asyncio.TimeoutError:\n",
    "            await asyncio.sleep(1)\n",
    "        except Exception:\n",
    "            await asyncio.sleep(1)\n",
    "    return url  # failed after all retries\n",
    "\n",
    "# ======= MAIN RUNNER =======\n",
    "async def main():\n",
    "    failed = []\n",
    "    connector = aiohttp.TCPConnector(limit=max_concurrent)\n",
    "    timeout = aiohttp.ClientTimeout(total=timeout_sec)\n",
    "\n",
    "    async with aiohttp.ClientSession(connector=connector, timeout=timeout) as session:\n",
    "        tasks = [download_image(session, sid, url) for sid, url in zip(ids, urls)]\n",
    "        for f in tqdm_asyncio.as_completed(tasks, total=len(tasks), desc=\"Downloading\"):\n",
    "            result = await f\n",
    "            if result:\n",
    "                failed.append(result)\n",
    "\n",
    "    print(f\"✅ Downloaded: {len(df)-len(failed)} images\")\n",
    "    print(f\"⚠️ Failed: {len(failed)} images\")\n",
    "    if failed:\n",
    "        with open(os.path.join(save_dir, \"failed_links.txt\"), \"w\") as f:\n",
    "            f.write(\"\\n\".join(failed))\n",
    "        print(\"💾 Failed links saved to failed_links.txt\")\n",
    "    return failed\n",
    "\n",
    "# ======= EXECUTION (works in both notebook & .py) =======\n",
    "try:\n",
    "    import nest_asyncio\n",
    "    nest_asyncio.apply()\n",
    "    await main()\n",
    "except RuntimeError:\n",
    "    asyncio.run(main())\n"
   ]
  }
 ],
 "metadata": {
  "kernelspec": {
   "display_name": "Python 3",
   "language": "python",
   "name": "python3"
  },
  "language_info": {
   "codemirror_mode": {
    "name": "ipython",
    "version": 3
   },
   "file_extension": ".py",
   "mimetype": "text/x-python",
   "name": "python",
   "nbconvert_exporter": "python",
   "pygments_lexer": "ipython3",
   "version": "3.11.2"
  }
 },
 "nbformat": 4,
 "nbformat_minor": 5
}
